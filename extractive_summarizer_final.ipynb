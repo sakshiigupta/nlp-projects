{
  "nbformat": 4,
  "nbformat_minor": 0,
  "metadata": {
    "colab": {
      "name": "extractive_summarizer_final.ipynb",
      "provenance": [],
      "collapsed_sections": [],
      "mount_file_id": "19vmaUGgnhVoJQ9KZYY9550P3xgqBzy9j",
      "authorship_tag": "ABX9TyM7STQFPRx48t6KZavFaY9Z",
      "include_colab_link": true
    },
    "kernelspec": {
      "name": "python3",
      "display_name": "Python 3"
    },
    "language_info": {
      "name": "python"
    }
  },
  "cells": [
    {
      "cell_type": "markdown",
      "metadata": {
        "id": "view-in-github",
        "colab_type": "text"
      },
      "source": [
        "<a href=\"https://colab.research.google.com/github/sakshiigupta/nlp-projects/blob/main/extractive_summarizer_final.ipynb\" target=\"_parent\"><img src=\"https://colab.research.google.com/assets/colab-badge.svg\" alt=\"Open In Colab\"/></a>"
      ]
    },
    {
      "cell_type": "markdown",
      "metadata": {
        "id": "uH9XaPwnYUq2"
      },
      "source": [
        "It is important to understand that we have used textrank as an approach to rank the sentences. TextRank does not rely on any previous training data and can work with any arbitrary piece of text. TextRank is a general purpose graph-based ranking algorithm for NLP."
      ]
    },
    {
      "cell_type": "markdown",
      "metadata": {
        "id": "YD4E0YUGYkkS"
      },
      "source": [
        "\n",
        "[article followed](https://towardsdatascience.com/understand-text-summarization-and-create-your-own-summarizer-in-python-b26a9f09fc70)\n"
      ]
    },
    {
      "cell_type": "code",
      "metadata": {
        "colab": {
          "base_uri": "https://localhost:8080/"
        },
        "id": "9vJr2YQiGkJp",
        "outputId": "a968a803-d06a-45a9-dca2-9d9cc7d7b9c9"
      },
      "source": [
        "import nltk\n",
        "nltk.download(\"stopwords\")\n",
        "from nltk.cluster.util import cosine_distance\n",
        "import numpy as np\n",
        "import networkx as nx"
      ],
      "execution_count": 1,
      "outputs": [
        {
          "output_type": "stream",
          "name": "stdout",
          "text": [
            "[nltk_data] Downloading package stopwords to /root/nltk_data...\n",
            "[nltk_data]   Package stopwords is already up-to-date!\n"
          ]
        }
      ]
    },
    {
      "cell_type": "code",
      "metadata": {
        "id": "bqqcBs2oG4Zm"
      },
      "source": [
        "file_name = \"/content/drive/MyDrive/NLP/summary.txt\""
      ],
      "execution_count": 2,
      "outputs": []
    },
    {
      "cell_type": "code",
      "metadata": {
        "colab": {
          "base_uri": "https://localhost:8080/"
        },
        "id": "TuyPZg5mIhKg",
        "outputId": "2d61563a-53b0-48cb-d5ee-159b6eb1126f"
      },
      "source": [
        "file = open(file_name, \"r\")\n",
        "filedata = file.readlines()\n",
        "filedata"
      ],
      "execution_count": 4,
      "outputs": [
        {
          "output_type": "execute_result",
          "data": {
            "text/plain": [
              "['In an attempt to build an AI-ready workforce, Microsoft announced Intelligent Cloud Hub which has been launched to empower the next generation of students with AI-ready skills. Envisioned as a three-year collaborative program, Intelligent Cloud Hub will support around 100 institutions with AI infrastructure, course content and curriculum, developer support, development tools and give students access to cloud and AI services. As part of the program, the Redmond giant which wants to expand its reach and is planning to build a strong developer ecosystem in India with the program will set up the core AI infrastructure and IoT Hub for the selected campuses. The company will provide AI development tools and Azure AI services such as Microsoft Cognitive Services, Bot Services and Azure Machine Learning.According to Manish Prakash, Country General Manager-PS, Health and Education, Microsoft India, said, \"With AI being the defining technology of our time, it is transforming lives and industry and the jobs of tomorrow will require a different skillset. This will require more collaborations and training and working with AI. That’s why it has become more critical than ever for educational institutions to integrate new cloud and AI technologies. The program is an attempt to ramp up the institutional set-up and build capabilities among the educators to educate the workforce of tomorrow.\" The program aims to build up the cognitive skills and in-depth understanding of developing intelligent cloud connected solutions for applications across industry. Earlier in April this year, the company announced Microsoft Professional Program In AI as a learning track open to the public. The program was developed to provide job ready skills to programmers who wanted to hone their skills in AI and data science with a series of online courses which featured hands-on labs and expert instructors as well. This program also included developer-focused AI school that provided a bunch of assets to help build AI skills.']"
            ]
          },
          "metadata": {},
          "execution_count": 4
        }
      ]
    },
    {
      "cell_type": "code",
      "metadata": {
        "id": "TQ9RH9qbGusj"
      },
      "source": [
        "from nltk.corpus import stopwords\n",
        "stop_words = stopwords.words('english')\n",
        "summarize_text = []\n",
        "\n"
      ],
      "execution_count": 5,
      "outputs": []
    },
    {
      "cell_type": "code",
      "metadata": {
        "id": "0wo4OQuLHcT8"
      },
      "source": [
        "# Step 1 - Read text and tokenize\n",
        "\n",
        "article = filedata[0].split(\". \")\n",
        "print(article, \"\\n\")\n",
        "sentences = []\n",
        "\n",
        "for sentence in article:\n",
        "  print(sentence)\n",
        "  sentences.append(sentence.replace(\"[^a-zA-Z]\", \" \").split(\" \"))\n",
        "#sentences.pop() \n",
        "\n",
        "sentences  #is a 2d array where each element is an array of words. each element is a sentence in word array form"
      ],
      "execution_count": null,
      "outputs": []
    },
    {
      "cell_type": "code",
      "metadata": {
        "id": "aipmQhP9SxQK"
      },
      "source": [
        "def sentence_similarity(sent1, sent2, stopwords=None):\n",
        "  #stopwords is an array of words\n",
        "    if stopwords is None:\n",
        "        stopwords = []\n",
        " \n",
        "    #converting to lowercase and creating an array of words\n",
        "    sent1 = [w.lower() for w in sent1]\n",
        "    sent2 = [w.lower() for w in sent2]\n",
        " \n",
        "    #set of all words in both sentences\n",
        "    all_words = list(set(sent1 + sent2))\n",
        " \n",
        "    #creating 2 vectors to store word frequency based on index of word in the allwords set\n",
        "    vector1 = [0] * len(all_words)\n",
        "    vector2 = [0] * len(all_words)\n",
        " \n",
        "    # build the vector for the first sentence\n",
        "    for w in sent1:\n",
        "        if w in stopwords:\n",
        "            continue\n",
        "        vector1[all_words.index(w)] += 1\n",
        " \n",
        "    # build the vector for the second sentence\n",
        "    for w in sent2:\n",
        "        if w in stopwords:\n",
        "            continue\n",
        "        vector2[all_words.index(w)] += 1\n",
        " \n",
        "    return 1 - cosine_distance(vector1, vector2)\n",
        "    #cosine dist =0 means similar, higher the value lesser the similarity\n",
        "    #as per the value returned, higher the value, higher the similarity."
      ],
      "execution_count": 11,
      "outputs": []
    },
    {
      "cell_type": "code",
      "metadata": {
        "colab": {
          "base_uri": "https://localhost:8080/"
        },
        "id": "RhhJSV6KJEHe",
        "outputId": "c63a5c45-d95e-4eb5-916e-035475135a2b"
      },
      "source": [
        "# Create an empty similarity matrix\n",
        "similarity_matrix = np.zeros((len(sentences), len(sentences)))\n",
        "similarity_matrix "
      ],
      "execution_count": 7,
      "outputs": [
        {
          "output_type": "execute_result",
          "data": {
            "text/plain": [
              "array([[0., 0., 0., 0., 0., 0., 0., 0., 0., 0.],\n",
              "       [0., 0., 0., 0., 0., 0., 0., 0., 0., 0.],\n",
              "       [0., 0., 0., 0., 0., 0., 0., 0., 0., 0.],\n",
              "       [0., 0., 0., 0., 0., 0., 0., 0., 0., 0.],\n",
              "       [0., 0., 0., 0., 0., 0., 0., 0., 0., 0.],\n",
              "       [0., 0., 0., 0., 0., 0., 0., 0., 0., 0.],\n",
              "       [0., 0., 0., 0., 0., 0., 0., 0., 0., 0.],\n",
              "       [0., 0., 0., 0., 0., 0., 0., 0., 0., 0.],\n",
              "       [0., 0., 0., 0., 0., 0., 0., 0., 0., 0.],\n",
              "       [0., 0., 0., 0., 0., 0., 0., 0., 0., 0.]])"
            ]
          },
          "metadata": {},
          "execution_count": 7
        }
      ]
    },
    {
      "cell_type": "code",
      "metadata": {
        "id": "otslIUl4Sf7F"
      },
      "source": [
        "for idx1 in range(len(sentences)):\n",
        "  for idx2 in range(len(sentences)):\n",
        "    if idx1 == idx2: #ignore if both are same sentences\n",
        "      continue \n",
        "    similarity_matrix[idx1][idx2] = sentence_similarity(sentences[idx1], sentences[idx2], stop_words)\n"
      ],
      "execution_count": 12,
      "outputs": []
    },
    {
      "cell_type": "code",
      "metadata": {
        "colab": {
          "base_uri": "https://localhost:8080/"
        },
        "id": "hLjyG4nWWkoF",
        "outputId": "3cb88cfb-3d5c-4dbe-e9d5-01d8c225cbee"
      },
      "source": [
        "similarity_matrix"
      ],
      "execution_count": 13,
      "outputs": [
        {
          "output_type": "execute_result",
          "data": {
            "text/plain": [
              "array([[0.        , 0.21516574, 0.10050378, 0.06600984, 0.        ,\n",
              "        0.07106691, 0.25400025, 0.13074409, 0.09622504, 0.06085806],\n",
              "       [0.21516574, 0.        , 0.19462474, 0.255655  , 0.16329932,\n",
              "        0.27524094, 0.09837388, 0.10127394, 0.0745356 , 0.18856181],\n",
              "       [0.10050378, 0.19462474, 0.        , 0.08956222, 0.09534626,\n",
              "        0.06428243, 0.15316792, 0.11826248, 0.08703883, 0.22019275],\n",
              "       [0.06600984, 0.255655  , 0.08956222, 0.        , 0.25048972,\n",
              "        0.1266601 , 0.05029955, 0.23302069, 0.11433239, 0.21693046],\n",
              "       [0.        , 0.16329932, 0.09534626, 0.25048972, 0.        ,\n",
              "        0.13483997, 0.        , 0.12403473, 0.09128709, 0.23094011],\n",
              "       [0.07106691, 0.27524094, 0.06428243, 0.1266601 , 0.13483997,\n",
              "        0.        , 0.05415304, 0.0836242 , 0.06154575, 0.15569979],\n",
              "       [0.25400025, 0.09837388, 0.15316792, 0.05029955, 0.        ,\n",
              "        0.05415304, 0.        , 0.0996271 , 0.14664712, 0.18549556],\n",
              "       [0.13074409, 0.10127394, 0.11826248, 0.23302069, 0.12403473,\n",
              "        0.0836242 , 0.0996271 , 0.        , 0.1132277 , 0.21483446],\n",
              "       [0.09622504, 0.0745356 , 0.08703883, 0.11433239, 0.09128709,\n",
              "        0.06154575, 0.14664712, 0.1132277 , 0.        , 0.15811388],\n",
              "       [0.06085806, 0.18856181, 0.22019275, 0.21693046, 0.23094011,\n",
              "        0.15569979, 0.18549556, 0.21483446, 0.15811388, 0.        ]])"
            ]
          },
          "metadata": {},
          "execution_count": 13
        }
      ]
    },
    {
      "cell_type": "code",
      "metadata": {
        "colab": {
          "base_uri": "https://localhost:8080/"
        },
        "id": "ybZf1jaJWnqi",
        "outputId": "508e0f44-1958-4393-e522-99bce0df141a"
      },
      "source": [
        "# Step 3 - Rank sentences in similarity martix\n",
        "similarity_graph = nx.from_numpy_array(similarity_matrix)\n",
        "similarity_graph\n",
        "#each node in this graph is a sentence"
      ],
      "execution_count": 15,
      "outputs": [
        {
          "output_type": "execute_result",
          "data": {
            "text/plain": [
              "<networkx.classes.graph.Graph at 0x7fd62172c250>"
            ]
          },
          "metadata": {},
          "execution_count": 15
        }
      ]
    },
    {
      "cell_type": "code",
      "metadata": {
        "colab": {
          "base_uri": "https://localhost:8080/"
        },
        "id": "VrkvXDPdXRT3",
        "outputId": "238397b2-6b4e-4a47-9c51-7c27fe777034"
      },
      "source": [
        "#ranking of each node/sentence\n",
        "scores = nx.pagerank(similarity_graph)\n",
        "scores"
      ],
      "execution_count": 16,
      "outputs": [
        {
          "output_type": "execute_result",
          "data": {
            "text/plain": [
              "{0: 0.08543021908426283,\n",
              " 1: 0.1262117608296295,\n",
              " 2: 0.09409890128802637,\n",
              " 3: 0.11386767381829474,\n",
              " 4: 0.0911373445844822,\n",
              " 5: 0.08689211093261075,\n",
              " 6: 0.08899375984519095,\n",
              " 7: 0.10100416115804903,\n",
              " 8: 0.08153023345816275,\n",
              " 9: 0.13083383500129075}"
            ]
          },
          "metadata": {},
          "execution_count": 16
        }
      ]
    },
    {
      "cell_type": "code",
      "metadata": {
        "colab": {
          "base_uri": "https://localhost:8080/"
        },
        "id": "E1-3fvFTXlxb",
        "outputId": "31558243-5f14-47ae-8e66-4a9dd9364328"
      },
      "source": [
        "# Step 4 - Sort the rank and pick top sentences\n",
        "'''\n",
        "ranked sentence is an array, each element is a dictionary - score value and the sentence array\n",
        "i is the index of the sentence and s is the sentence array\n",
        "'''\n",
        "ranked_sentence = sorted(((scores[i],s) for i,s in enumerate(sentences)), reverse=True)    \n",
        "print(\"Indexes of top ranked_sentence order are \", ranked_sentence)    "
      ],
      "execution_count": 17,
      "outputs": [
        {
          "output_type": "stream",
          "name": "stdout",
          "text": [
            "Indexes of top ranked_sentence order are  [(0.13083383500129075, ['This', 'program', 'also', 'included', 'developer-focused', 'AI', 'school', 'that', 'provided', 'a', 'bunch', 'of', 'assets', 'to', 'help', 'build', 'AI', 'skills.']), (0.1262117608296295, ['Envisioned', 'as', 'a', 'three-year', 'collaborative', 'program,', 'Intelligent', 'Cloud', 'Hub', 'will', 'support', 'around', '100', 'institutions', 'with', 'AI', 'infrastructure,', 'course', 'content', 'and', 'curriculum,', 'developer', 'support,', 'development', 'tools', 'and', 'give', 'students', 'access', 'to', 'cloud', 'and', 'AI', 'services']), (0.11386767381829474, ['The', 'company', 'will', 'provide', 'AI', 'development', 'tools', 'and', 'Azure', 'AI', 'services', 'such', 'as', 'Microsoft', 'Cognitive', 'Services,', 'Bot', 'Services', 'and', 'Azure', 'Machine', 'Learning.According', 'to', 'Manish', 'Prakash,', 'Country', 'General', 'Manager-PS,', 'Health', 'and', 'Education,', 'Microsoft', 'India,', 'said,', '\"With', 'AI', 'being', 'the', 'defining', 'technology', 'of', 'our', 'time,', 'it', 'is', 'transforming', 'lives', 'and', 'industry', 'and', 'the', 'jobs', 'of', 'tomorrow', 'will', 'require', 'a', 'different', 'skillset']), (0.10100416115804903, ['Earlier', 'in', 'April', 'this', 'year,', 'the', 'company', 'announced', 'Microsoft', 'Professional', 'Program', 'In', 'AI', 'as', 'a', 'learning', 'track', 'open', 'to', 'the', 'public']), (0.09409890128802637, ['As', 'part', 'of', 'the', 'program,', 'the', 'Redmond', 'giant', 'which', 'wants', 'to', 'expand', 'its', 'reach', 'and', 'is', 'planning', 'to', 'build', 'a', 'strong', 'developer', 'ecosystem', 'in', 'India', 'with', 'the', 'program', 'will', 'set', 'up', 'the', 'core', 'AI', 'infrastructure', 'and', 'IoT', 'Hub', 'for', 'the', 'selected', 'campuses']), (0.0911373445844822, ['This', 'will', 'require', 'more', 'collaborations', 'and', 'training', 'and', 'working', 'with', 'AI']), (0.08899375984519095, ['The', 'program', 'is', 'an', 'attempt', 'to', 'ramp', 'up', 'the', 'institutional', 'set-up', 'and', 'build', 'capabilities', 'among', 'the', 'educators', 'to', 'educate', 'the', 'workforce', 'of', 'tomorrow.\"', 'The', 'program', 'aims', 'to', 'build', 'up', 'the', 'cognitive', 'skills', 'and', 'in-depth', 'understanding', 'of', 'developing', 'intelligent', 'cloud', 'connected', 'solutions', 'for', 'applications', 'across', 'industry']), (0.08689211093261075, ['That’s', 'why', 'it', 'has', 'become', 'more', 'critical', 'than', 'ever', 'for', 'educational', 'institutions', 'to', 'integrate', 'new', 'cloud', 'and', 'AI', 'technologies']), (0.08543021908426283, ['In', 'an', 'attempt', 'to', 'build', 'an', 'AI-ready', 'workforce,', 'Microsoft', 'announced', 'Intelligent', 'Cloud', 'Hub', 'which', 'has', 'been', 'launched', 'to', 'empower', 'the', 'next', 'generation', 'of', 'students', 'with', 'AI-ready', 'skills']), (0.08153023345816275, ['The', 'program', 'was', 'developed', 'to', 'provide', 'job', 'ready', 'skills', 'to', 'programmers', 'who', 'wanted', 'to', 'hone', 'their', 'skills', 'in', 'AI', 'and', 'data', 'science', 'with', 'a', 'series', 'of', 'online', 'courses', 'which', 'featured', 'hands-on', 'labs', 'and', 'expert', 'instructors', 'as', 'well'])]\n"
          ]
        }
      ]
    },
    {
      "cell_type": "code",
      "metadata": {
        "colab": {
          "base_uri": "https://localhost:8080/"
        },
        "id": "IoGeh9KoX4DX",
        "outputId": "3d038e6b-12c1-47ef-d2cb-e604692d79c9"
      },
      "source": [
        "for i in range(3):\n",
        "  summarize_text.append(\" \".join(ranked_sentence[i][1]))\n",
        "\n",
        "    # Step 5 - Offcourse, output the summarize text\n",
        "print(\"Summarize Text: \\n\", \". \".join(summarize_text))"
      ],
      "execution_count": 18,
      "outputs": [
        {
          "output_type": "stream",
          "name": "stdout",
          "text": [
            "Summarize Text: \n",
            " This program also included developer-focused AI school that provided a bunch of assets to help build AI skills.. Envisioned as a three-year collaborative program, Intelligent Cloud Hub will support around 100 institutions with AI infrastructure, course content and curriculum, developer support, development tools and give students access to cloud and AI services. The company will provide AI development tools and Azure AI services such as Microsoft Cognitive Services, Bot Services and Azure Machine Learning.According to Manish Prakash, Country General Manager-PS, Health and Education, Microsoft India, said, \"With AI being the defining technology of our time, it is transforming lives and industry and the jobs of tomorrow will require a different skillset\n"
          ]
        }
      ]
    },
    {
      "cell_type": "code",
      "metadata": {
        "colab": {
          "base_uri": "https://localhost:8080/"
        },
        "id": "mJOEbmELZoSF",
        "outputId": "a0cac1ae-6162-4397-aaf4-c01cf4c6a3fc"
      },
      "source": [
        "sentences"
      ],
      "execution_count": 19,
      "outputs": [
        {
          "output_type": "execute_result",
          "data": {
            "text/plain": [
              "[['In',\n",
              "  'an',\n",
              "  'attempt',\n",
              "  'to',\n",
              "  'build',\n",
              "  'an',\n",
              "  'AI-ready',\n",
              "  'workforce,',\n",
              "  'Microsoft',\n",
              "  'announced',\n",
              "  'Intelligent',\n",
              "  'Cloud',\n",
              "  'Hub',\n",
              "  'which',\n",
              "  'has',\n",
              "  'been',\n",
              "  'launched',\n",
              "  'to',\n",
              "  'empower',\n",
              "  'the',\n",
              "  'next',\n",
              "  'generation',\n",
              "  'of',\n",
              "  'students',\n",
              "  'with',\n",
              "  'AI-ready',\n",
              "  'skills'],\n",
              " ['Envisioned',\n",
              "  'as',\n",
              "  'a',\n",
              "  'three-year',\n",
              "  'collaborative',\n",
              "  'program,',\n",
              "  'Intelligent',\n",
              "  'Cloud',\n",
              "  'Hub',\n",
              "  'will',\n",
              "  'support',\n",
              "  'around',\n",
              "  '100',\n",
              "  'institutions',\n",
              "  'with',\n",
              "  'AI',\n",
              "  'infrastructure,',\n",
              "  'course',\n",
              "  'content',\n",
              "  'and',\n",
              "  'curriculum,',\n",
              "  'developer',\n",
              "  'support,',\n",
              "  'development',\n",
              "  'tools',\n",
              "  'and',\n",
              "  'give',\n",
              "  'students',\n",
              "  'access',\n",
              "  'to',\n",
              "  'cloud',\n",
              "  'and',\n",
              "  'AI',\n",
              "  'services'],\n",
              " ['As',\n",
              "  'part',\n",
              "  'of',\n",
              "  'the',\n",
              "  'program,',\n",
              "  'the',\n",
              "  'Redmond',\n",
              "  'giant',\n",
              "  'which',\n",
              "  'wants',\n",
              "  'to',\n",
              "  'expand',\n",
              "  'its',\n",
              "  'reach',\n",
              "  'and',\n",
              "  'is',\n",
              "  'planning',\n",
              "  'to',\n",
              "  'build',\n",
              "  'a',\n",
              "  'strong',\n",
              "  'developer',\n",
              "  'ecosystem',\n",
              "  'in',\n",
              "  'India',\n",
              "  'with',\n",
              "  'the',\n",
              "  'program',\n",
              "  'will',\n",
              "  'set',\n",
              "  'up',\n",
              "  'the',\n",
              "  'core',\n",
              "  'AI',\n",
              "  'infrastructure',\n",
              "  'and',\n",
              "  'IoT',\n",
              "  'Hub',\n",
              "  'for',\n",
              "  'the',\n",
              "  'selected',\n",
              "  'campuses'],\n",
              " ['The',\n",
              "  'company',\n",
              "  'will',\n",
              "  'provide',\n",
              "  'AI',\n",
              "  'development',\n",
              "  'tools',\n",
              "  'and',\n",
              "  'Azure',\n",
              "  'AI',\n",
              "  'services',\n",
              "  'such',\n",
              "  'as',\n",
              "  'Microsoft',\n",
              "  'Cognitive',\n",
              "  'Services,',\n",
              "  'Bot',\n",
              "  'Services',\n",
              "  'and',\n",
              "  'Azure',\n",
              "  'Machine',\n",
              "  'Learning.According',\n",
              "  'to',\n",
              "  'Manish',\n",
              "  'Prakash,',\n",
              "  'Country',\n",
              "  'General',\n",
              "  'Manager-PS,',\n",
              "  'Health',\n",
              "  'and',\n",
              "  'Education,',\n",
              "  'Microsoft',\n",
              "  'India,',\n",
              "  'said,',\n",
              "  '\"With',\n",
              "  'AI',\n",
              "  'being',\n",
              "  'the',\n",
              "  'defining',\n",
              "  'technology',\n",
              "  'of',\n",
              "  'our',\n",
              "  'time,',\n",
              "  'it',\n",
              "  'is',\n",
              "  'transforming',\n",
              "  'lives',\n",
              "  'and',\n",
              "  'industry',\n",
              "  'and',\n",
              "  'the',\n",
              "  'jobs',\n",
              "  'of',\n",
              "  'tomorrow',\n",
              "  'will',\n",
              "  'require',\n",
              "  'a',\n",
              "  'different',\n",
              "  'skillset'],\n",
              " ['This',\n",
              "  'will',\n",
              "  'require',\n",
              "  'more',\n",
              "  'collaborations',\n",
              "  'and',\n",
              "  'training',\n",
              "  'and',\n",
              "  'working',\n",
              "  'with',\n",
              "  'AI'],\n",
              " ['That’s',\n",
              "  'why',\n",
              "  'it',\n",
              "  'has',\n",
              "  'become',\n",
              "  'more',\n",
              "  'critical',\n",
              "  'than',\n",
              "  'ever',\n",
              "  'for',\n",
              "  'educational',\n",
              "  'institutions',\n",
              "  'to',\n",
              "  'integrate',\n",
              "  'new',\n",
              "  'cloud',\n",
              "  'and',\n",
              "  'AI',\n",
              "  'technologies'],\n",
              " ['The',\n",
              "  'program',\n",
              "  'is',\n",
              "  'an',\n",
              "  'attempt',\n",
              "  'to',\n",
              "  'ramp',\n",
              "  'up',\n",
              "  'the',\n",
              "  'institutional',\n",
              "  'set-up',\n",
              "  'and',\n",
              "  'build',\n",
              "  'capabilities',\n",
              "  'among',\n",
              "  'the',\n",
              "  'educators',\n",
              "  'to',\n",
              "  'educate',\n",
              "  'the',\n",
              "  'workforce',\n",
              "  'of',\n",
              "  'tomorrow.\"',\n",
              "  'The',\n",
              "  'program',\n",
              "  'aims',\n",
              "  'to',\n",
              "  'build',\n",
              "  'up',\n",
              "  'the',\n",
              "  'cognitive',\n",
              "  'skills',\n",
              "  'and',\n",
              "  'in-depth',\n",
              "  'understanding',\n",
              "  'of',\n",
              "  'developing',\n",
              "  'intelligent',\n",
              "  'cloud',\n",
              "  'connected',\n",
              "  'solutions',\n",
              "  'for',\n",
              "  'applications',\n",
              "  'across',\n",
              "  'industry'],\n",
              " ['Earlier',\n",
              "  'in',\n",
              "  'April',\n",
              "  'this',\n",
              "  'year,',\n",
              "  'the',\n",
              "  'company',\n",
              "  'announced',\n",
              "  'Microsoft',\n",
              "  'Professional',\n",
              "  'Program',\n",
              "  'In',\n",
              "  'AI',\n",
              "  'as',\n",
              "  'a',\n",
              "  'learning',\n",
              "  'track',\n",
              "  'open',\n",
              "  'to',\n",
              "  'the',\n",
              "  'public'],\n",
              " ['The',\n",
              "  'program',\n",
              "  'was',\n",
              "  'developed',\n",
              "  'to',\n",
              "  'provide',\n",
              "  'job',\n",
              "  'ready',\n",
              "  'skills',\n",
              "  'to',\n",
              "  'programmers',\n",
              "  'who',\n",
              "  'wanted',\n",
              "  'to',\n",
              "  'hone',\n",
              "  'their',\n",
              "  'skills',\n",
              "  'in',\n",
              "  'AI',\n",
              "  'and',\n",
              "  'data',\n",
              "  'science',\n",
              "  'with',\n",
              "  'a',\n",
              "  'series',\n",
              "  'of',\n",
              "  'online',\n",
              "  'courses',\n",
              "  'which',\n",
              "  'featured',\n",
              "  'hands-on',\n",
              "  'labs',\n",
              "  'and',\n",
              "  'expert',\n",
              "  'instructors',\n",
              "  'as',\n",
              "  'well'],\n",
              " ['This',\n",
              "  'program',\n",
              "  'also',\n",
              "  'included',\n",
              "  'developer-focused',\n",
              "  'AI',\n",
              "  'school',\n",
              "  'that',\n",
              "  'provided',\n",
              "  'a',\n",
              "  'bunch',\n",
              "  'of',\n",
              "  'assets',\n",
              "  'to',\n",
              "  'help',\n",
              "  'build',\n",
              "  'AI',\n",
              "  'skills.']]"
            ]
          },
          "metadata": {},
          "execution_count": 19
        }
      ]
    }
  ]
}